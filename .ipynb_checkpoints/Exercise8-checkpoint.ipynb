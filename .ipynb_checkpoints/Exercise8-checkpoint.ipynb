{
 "cells": [
  {
   "cell_type": "code",
   "execution_count": 2,
   "id": "21339c1b-49f3-4d8a-afc2-2d65c7beac04",
   "metadata": {},
   "outputs": [],
   "source": [
    "import tensorflow as tf\n",
    "from tensorflow import keras\n",
    "from sklearn.model_selection import train_test_split\n",
    "import os"
   ]
  },
  {
   "cell_type": "code",
   "execution_count": 3,
   "id": "1f6c4659-5a85-49c5-9b0d-fee3170d5ae5",
   "metadata": {},
   "outputs": [],
   "source": [
    "(x_train, y_train), (x_test, y_test) = keras.datasets.cifar10.load_data()"
   ]
  },
  {
   "cell_type": "code",
   "execution_count": 3,
   "id": "26426da1-fd74-48cd-b70f-730dc6c63c26",
   "metadata": {},
   "outputs": [
    {
     "data": {
      "text/plain": [
       "(50000, 32, 32, 3)"
      ]
     },
     "execution_count": 3,
     "metadata": {},
     "output_type": "execute_result"
    }
   ],
   "source": [
    "x_train.shape"
   ]
  },
  {
   "cell_type": "code",
   "execution_count": 5,
   "id": "f443924a-c55e-44f9-9d20-a55f29c65858",
   "metadata": {},
   "outputs": [
    {
     "data": {
      "text/plain": [
       "(32, 32, 3)"
      ]
     },
     "execution_count": 5,
     "metadata": {},
     "output_type": "execute_result"
    }
   ],
   "source": [
    "x_train[1].shape"
   ]
  },
  {
   "cell_type": "code",
   "execution_count": 9,
   "id": "aea18d71-231c-417d-a59f-ee5c230c6172",
   "metadata": {},
   "outputs": [
    {
     "data": {
      "text/plain": [
       "array([[140, 160, 169],\n",
       "       [145, 153, 154],\n",
       "       [125, 125, 118],\n",
       "       [124, 129, 132],\n",
       "       [150, 161, 173],\n",
       "       [152, 164, 175],\n",
       "       [174, 188, 200],\n",
       "       [178, 189, 196],\n",
       "       [134, 139, 137],\n",
       "       [110, 111, 102],\n",
       "       [133, 127, 120],\n",
       "       [163, 156, 156],\n",
       "       [192, 192, 187],\n",
       "       [218, 219, 215],\n",
       "       [240, 241, 238],\n",
       "       [245, 246, 245],\n",
       "       [241, 242, 239],\n",
       "       [238, 239, 235],\n",
       "       [234, 235, 229],\n",
       "       [226, 227, 220],\n",
       "       [142, 143, 136],\n",
       "       [ 96,  97,  85],\n",
       "       [ 99, 101,  84],\n",
       "       [ 95,  96,  87],\n",
       "       [ 89,  89,  86],\n",
       "       [ 80,  81,  77],\n",
       "       [ 65,  67,  60],\n",
       "       [ 84,  86,  76],\n",
       "       [ 92,  95,  80],\n",
       "       [ 96,  99,  78],\n",
       "       [ 77,  80,  62],\n",
       "       [ 71,  73,  61]], dtype=uint8)"
      ]
     },
     "execution_count": 9,
     "metadata": {},
     "output_type": "execute_result"
    }
   ],
   "source": [
    "x_train[1,1]"
   ]
  },
  {
   "cell_type": "code",
   "execution_count": 4,
   "id": "3edafc10-332f-4c6a-8fc3-017d239c6277",
   "metadata": {},
   "outputs": [],
   "source": [
    "x_train_h, x_val, y_train_h, y_val = train_test_split(x_train, y_train, test_size=0.10, random_state=42, stratify = y_train)"
   ]
  },
  {
   "cell_type": "code",
   "execution_count": 16,
   "id": "2914d2b9-c1f0-43d0-8b0f-de3fd7d412a5",
   "metadata": {},
   "outputs": [
    {
     "data": {
      "text/plain": [
       "(45000, 32, 32, 3)"
      ]
     },
     "execution_count": 16,
     "metadata": {},
     "output_type": "execute_result"
    }
   ],
   "source": [
    "x_train_h.shape"
   ]
  },
  {
   "cell_type": "code",
   "execution_count": 17,
   "id": "2dedb389-cf99-4e3a-ade0-25fc286c9936",
   "metadata": {},
   "outputs": [
    {
     "data": {
      "text/plain": [
       "(5000, 32, 32, 3)"
      ]
     },
     "execution_count": 17,
     "metadata": {},
     "output_type": "execute_result"
    }
   ],
   "source": [
    "x_val.shape"
   ]
  },
  {
   "cell_type": "code",
   "execution_count": 5,
   "id": "92537c8c-03e3-4379-91bf-a1d24d95c042",
   "metadata": {},
   "outputs": [
    {
     "name": "stderr",
     "output_type": "stream",
     "text": [
      "2021-08-08 15:33:03.355870: I tensorflow/core/platform/cpu_feature_guard.cc:142] This TensorFlow binary is optimized with oneAPI Deep Neural Network Library (oneDNN) to use the following CPU instructions in performance-critical operations:  SSE4.1 SSE4.2 AVX AVX2 FMA\n",
      "To enable them in other operations, rebuild TensorFlow with the appropriate compiler flags.\n"
     ]
    }
   ],
   "source": [
    "tf.keras.backend.clear_session()\n",
    "model = keras.models.Sequential()\n",
    "model.add(keras.layers.Flatten(input_shape=[32, 32, 3]))\n",
    "for i in range(0,20):\n",
    "    model.add(keras.layers.Dense(100, activation = \"elu\", kernel_initializer = \"he_normal\"))\n",
    "model.add(keras.layers.Dense(10, activation= \"softmax\"))"
   ]
  },
  {
   "cell_type": "code",
   "execution_count": 95,
   "id": "9e4e8e2d-f356-4075-a5f9-59701097dba8",
   "metadata": {},
   "outputs": [
    {
     "name": "stderr",
     "output_type": "stream",
     "text": [
      "2021-08-07 12:12:02.068866: I tensorflow/core/profiler/lib/profiler_session.cc:136] Profiler session initializing.\n",
      "2021-08-07 12:12:02.068964: I tensorflow/core/profiler/lib/profiler_session.cc:155] Profiler session started.\n",
      "2021-08-07 12:12:02.069015: I tensorflow/core/profiler/lib/profiler_session.cc:172] Profiler session tear down.\n"
     ]
    },
    {
     "name": "stdout",
     "output_type": "stream",
     "text": [
      "Epoch 1/10\n",
      "  10/1563 [..............................] - ETA: 36s - loss: 91.5944 - accuracy: 0.1103 "
     ]
    },
    {
     "name": "stderr",
     "output_type": "stream",
     "text": [
      "2021-08-07 12:12:04.437871: I tensorflow/core/profiler/lib/profiler_session.cc:136] Profiler session initializing.\n",
      "2021-08-07 12:12:04.437922: I tensorflow/core/profiler/lib/profiler_session.cc:155] Profiler session started.\n",
      "2021-08-07 12:12:04.517154: I tensorflow/core/profiler/lib/profiler_session.cc:71] Profiler session collecting data.\n",
      "2021-08-07 12:12:04.524941: I tensorflow/core/profiler/lib/profiler_session.cc:172] Profiler session tear down.\n",
      "2021-08-07 12:12:04.533344: I tensorflow/core/profiler/rpc/client/save_profile.cc:137] Creating directory: ./my_logs/run_001/train/plugins/profile/2021_08_07_12_12_04\n",
      "2021-08-07 12:12:04.537968: I tensorflow/core/profiler/rpc/client/save_profile.cc:143] Dumped gzipped tool data for trace.json.gz to ./my_logs/run_001/train/plugins/profile/2021_08_07_12_12_04/DESKTOP-JR7V9NU.trace.json.gz\n",
      "2021-08-07 12:12:04.548360: I tensorflow/core/profiler/rpc/client/save_profile.cc:137] Creating directory: ./my_logs/run_001/train/plugins/profile/2021_08_07_12_12_04\n",
      "2021-08-07 12:12:04.548460: I tensorflow/core/profiler/rpc/client/save_profile.cc:143] Dumped gzipped tool data for memory_profile.json.gz to ./my_logs/run_001/train/plugins/profile/2021_08_07_12_12_04/DESKTOP-JR7V9NU.memory_profile.json.gz\n",
      "2021-08-07 12:12:04.549157: I tensorflow/core/profiler/rpc/client/capture_profile.cc:251] Creating directory: ./my_logs/run_001/train/plugins/profile/2021_08_07_12_12_04Dumped tool data for xplane.pb to ./my_logs/run_001/train/plugins/profile/2021_08_07_12_12_04/DESKTOP-JR7V9NU.xplane.pb\n",
      "Dumped tool data for overview_page.pb to ./my_logs/run_001/train/plugins/profile/2021_08_07_12_12_04/DESKTOP-JR7V9NU.overview_page.pb\n",
      "Dumped tool data for input_pipeline.pb to ./my_logs/run_001/train/plugins/profile/2021_08_07_12_12_04/DESKTOP-JR7V9NU.input_pipeline.pb\n",
      "Dumped tool data for tensorflow_stats.pb to ./my_logs/run_001/train/plugins/profile/2021_08_07_12_12_04/DESKTOP-JR7V9NU.tensorflow_stats.pb\n",
      "Dumped tool data for kernel_stats.pb to ./my_logs/run_001/train/plugins/profile/2021_08_07_12_12_04/DESKTOP-JR7V9NU.kernel_stats.pb\n",
      "\n"
     ]
    },
    {
     "name": "stdout",
     "output_type": "stream",
     "text": [
      "1563/1563 [==============================] - 13s 7ms/step - loss: 13.9047 - accuracy: 0.1150 - val_loss: 2.5490 - val_accuracy: 0.1768\n",
      "Epoch 2/10\n",
      "1563/1563 [==============================] - 10s 6ms/step - loss: 2.4437 - accuracy: 0.1897 - val_loss: 2.1956 - val_accuracy: 0.2280\n",
      "Epoch 3/10\n",
      "1563/1563 [==============================] - 13s 9ms/step - loss: 2.1638 - accuracy: 0.2324 - val_loss: 2.0593 - val_accuracy: 0.2546\n",
      "Epoch 4/10\n",
      "1563/1563 [==============================] - 13s 8ms/step - loss: 2.0442 - accuracy: 0.2600 - val_loss: 2.0347 - val_accuracy: 0.2642\n",
      "Epoch 5/10\n",
      "1563/1563 [==============================] - 13s 8ms/step - loss: 1.9549 - accuracy: 0.2938 - val_loss: 1.8887 - val_accuracy: 0.3190\n",
      "Epoch 6/10\n",
      "1563/1563 [==============================] - 13s 8ms/step - loss: 1.8985 - accuracy: 0.3121 - val_loss: 1.8575 - val_accuracy: 0.3380\n",
      "Epoch 7/10\n",
      "1563/1563 [==============================] - 14s 9ms/step - loss: 1.8551 - accuracy: 0.3269 - val_loss: 1.8059 - val_accuracy: 0.3542\n",
      "Epoch 8/10\n",
      "1563/1563 [==============================] - 13s 8ms/step - loss: 1.8198 - accuracy: 0.3406 - val_loss: 1.7655 - val_accuracy: 0.3632\n",
      "Epoch 9/10\n",
      "1563/1563 [==============================] - 12s 8ms/step - loss: 1.7827 - accuracy: 0.3543 - val_loss: 1.7330 - val_accuracy: 0.3802\n",
      "Epoch 10/10\n",
      "1563/1563 [==============================] - 12s 8ms/step - loss: 1.7508 - accuracy: 0.3667 - val_loss: 1.7217 - val_accuracy: 0.3786\n"
     ]
    },
    {
     "name": "stderr",
     "output_type": "stream",
     "text": [
      "2021-08-07 12:14:08.643562: I tensorflow/core/profiler/lib/profiler_session.cc:136] Profiler session initializing.\n",
      "2021-08-07 12:14:08.643617: I tensorflow/core/profiler/lib/profiler_session.cc:155] Profiler session started.\n",
      "2021-08-07 12:14:08.643650: I tensorflow/core/profiler/lib/profiler_session.cc:172] Profiler session tear down.\n"
     ]
    },
    {
     "name": "stdout",
     "output_type": "stream",
     "text": [
      "Epoch 1/10\n",
      "  10/1563 [..............................] - ETA: 31s - loss: 1.8501 - accuracy: 0.3517 "
     ]
    },
    {
     "name": "stderr",
     "output_type": "stream",
     "text": [
      "2021-08-07 12:14:11.227846: I tensorflow/core/profiler/lib/profiler_session.cc:136] Profiler session initializing.\n",
      "2021-08-07 12:14:11.227896: I tensorflow/core/profiler/lib/profiler_session.cc:155] Profiler session started.\n",
      "2021-08-07 12:14:11.290290: I tensorflow/core/profiler/lib/profiler_session.cc:71] Profiler session collecting data.\n",
      "2021-08-07 12:14:11.297579: I tensorflow/core/profiler/lib/profiler_session.cc:172] Profiler session tear down.\n",
      "2021-08-07 12:14:11.305656: I tensorflow/core/profiler/rpc/client/save_profile.cc:137] Creating directory: ./my_logs/run_002/train/plugins/profile/2021_08_07_12_14_11\n",
      "2021-08-07 12:14:11.310151: I tensorflow/core/profiler/rpc/client/save_profile.cc:143] Dumped gzipped tool data for trace.json.gz to ./my_logs/run_002/train/plugins/profile/2021_08_07_12_14_11/DESKTOP-JR7V9NU.trace.json.gz\n",
      "2021-08-07 12:14:11.319455: I tensorflow/core/profiler/rpc/client/save_profile.cc:137] Creating directory: ./my_logs/run_002/train/plugins/profile/2021_08_07_12_14_11\n",
      "2021-08-07 12:14:11.319548: I tensorflow/core/profiler/rpc/client/save_profile.cc:143] Dumped gzipped tool data for memory_profile.json.gz to ./my_logs/run_002/train/plugins/profile/2021_08_07_12_14_11/DESKTOP-JR7V9NU.memory_profile.json.gz\n",
      "2021-08-07 12:14:11.320199: I tensorflow/core/profiler/rpc/client/capture_profile.cc:251] Creating directory: ./my_logs/run_002/train/plugins/profile/2021_08_07_12_14_11Dumped tool data for xplane.pb to ./my_logs/run_002/train/plugins/profile/2021_08_07_12_14_11/DESKTOP-JR7V9NU.xplane.pb\n",
      "Dumped tool data for overview_page.pb to ./my_logs/run_002/train/plugins/profile/2021_08_07_12_14_11/DESKTOP-JR7V9NU.overview_page.pb\n",
      "Dumped tool data for input_pipeline.pb to ./my_logs/run_002/train/plugins/profile/2021_08_07_12_14_11/DESKTOP-JR7V9NU.input_pipeline.pb\n",
      "Dumped tool data for tensorflow_stats.pb to ./my_logs/run_002/train/plugins/profile/2021_08_07_12_14_11/DESKTOP-JR7V9NU.tensorflow_stats.pb\n",
      "Dumped tool data for kernel_stats.pb to ./my_logs/run_002/train/plugins/profile/2021_08_07_12_14_11/DESKTOP-JR7V9NU.kernel_stats.pb\n",
      "\n"
     ]
    },
    {
     "name": "stdout",
     "output_type": "stream",
     "text": [
      "1563/1563 [==============================] - 17s 10ms/step - loss: 1.8190 - accuracy: 0.3455 - val_loss: 1.8095 - val_accuracy: 0.3604\n",
      "Epoch 2/10\n",
      "1563/1563 [==============================] - 15s 10ms/step - loss: 1.7583 - accuracy: 0.3596 - val_loss: 1.7078 - val_accuracy: 0.3944\n",
      "Epoch 3/10\n",
      "1563/1563 [==============================] - 13s 8ms/step - loss: 1.7013 - accuracy: 0.3872 - val_loss: 1.6821 - val_accuracy: 0.3932\n",
      "Epoch 4/10\n",
      "1563/1563 [==============================] - 12s 8ms/step - loss: 1.6578 - accuracy: 0.4028 - val_loss: 1.5964 - val_accuracy: 0.4250\n",
      "Epoch 5/10\n",
      "1563/1563 [==============================] - 13s 9ms/step - loss: 1.6271 - accuracy: 0.4141 - val_loss: 1.5993 - val_accuracy: 0.4300\n",
      "Epoch 6/10\n",
      "1563/1563 [==============================] - 13s 8ms/step - loss: 1.5898 - accuracy: 0.4270 - val_loss: 1.5579 - val_accuracy: 0.4388\n",
      "Epoch 7/10\n",
      "1563/1563 [==============================] - 13s 8ms/step - loss: 1.5737 - accuracy: 0.4315 - val_loss: 1.5301 - val_accuracy: 0.4518\n",
      "Epoch 8/10\n",
      "1563/1563 [==============================] - 13s 8ms/step - loss: 1.5567 - accuracy: 0.4396 - val_loss: 1.5592 - val_accuracy: 0.4420\n",
      "Epoch 9/10\n",
      "1563/1563 [==============================] - 13s 8ms/step - loss: 1.5374 - accuracy: 0.4490 - val_loss: 1.5135 - val_accuracy: 0.4562\n",
      "Epoch 10/10\n",
      "1563/1563 [==============================] - 14s 9ms/step - loss: 1.5079 - accuracy: 0.4579 - val_loss: 1.5300 - val_accuracy: 0.4510\n"
     ]
    },
    {
     "name": "stderr",
     "output_type": "stream",
     "text": [
      "2021-08-07 12:16:26.050558: I tensorflow/core/profiler/lib/profiler_session.cc:136] Profiler session initializing.\n",
      "2021-08-07 12:16:26.050623: I tensorflow/core/profiler/lib/profiler_session.cc:155] Profiler session started.\n",
      "2021-08-07 12:16:26.050683: I tensorflow/core/profiler/lib/profiler_session.cc:172] Profiler session tear down.\n"
     ]
    },
    {
     "name": "stdout",
     "output_type": "stream",
     "text": [
      "Epoch 1/10\n",
      "  11/1563 [..............................] - ETA: 30s - loss: 1.4108 - accuracy: 0.4845 "
     ]
    },
    {
     "name": "stderr",
     "output_type": "stream",
     "text": [
      "2021-08-07 12:16:28.447132: I tensorflow/core/profiler/lib/profiler_session.cc:136] Profiler session initializing.\n",
      "2021-08-07 12:16:28.447182: I tensorflow/core/profiler/lib/profiler_session.cc:155] Profiler session started.\n",
      "2021-08-07 12:16:28.511347: I tensorflow/core/profiler/lib/profiler_session.cc:71] Profiler session collecting data.\n",
      "2021-08-07 12:16:28.518217: I tensorflow/core/profiler/lib/profiler_session.cc:172] Profiler session tear down.\n",
      "2021-08-07 12:16:28.528472: I tensorflow/core/profiler/rpc/client/save_profile.cc:137] Creating directory: ./my_logs/run_003/train/plugins/profile/2021_08_07_12_16_28\n",
      "2021-08-07 12:16:28.534799: I tensorflow/core/profiler/rpc/client/save_profile.cc:143] Dumped gzipped tool data for trace.json.gz to ./my_logs/run_003/train/plugins/profile/2021_08_07_12_16_28/DESKTOP-JR7V9NU.trace.json.gz\n",
      "2021-08-07 12:16:28.546001: I tensorflow/core/profiler/rpc/client/save_profile.cc:137] Creating directory: ./my_logs/run_003/train/plugins/profile/2021_08_07_12_16_28\n",
      "2021-08-07 12:16:28.546098: I tensorflow/core/profiler/rpc/client/save_profile.cc:143] Dumped gzipped tool data for memory_profile.json.gz to ./my_logs/run_003/train/plugins/profile/2021_08_07_12_16_28/DESKTOP-JR7V9NU.memory_profile.json.gz\n",
      "2021-08-07 12:16:28.546894: I tensorflow/core/profiler/rpc/client/capture_profile.cc:251] Creating directory: ./my_logs/run_003/train/plugins/profile/2021_08_07_12_16_28Dumped tool data for xplane.pb to ./my_logs/run_003/train/plugins/profile/2021_08_07_12_16_28/DESKTOP-JR7V9NU.xplane.pb\n",
      "Dumped tool data for overview_page.pb to ./my_logs/run_003/train/plugins/profile/2021_08_07_12_16_28/DESKTOP-JR7V9NU.overview_page.pb\n",
      "Dumped tool data for input_pipeline.pb to ./my_logs/run_003/train/plugins/profile/2021_08_07_12_16_28/DESKTOP-JR7V9NU.input_pipeline.pb\n",
      "Dumped tool data for tensorflow_stats.pb to ./my_logs/run_003/train/plugins/profile/2021_08_07_12_16_28/DESKTOP-JR7V9NU.tensorflow_stats.pb\n",
      "Dumped tool data for kernel_stats.pb to ./my_logs/run_003/train/plugins/profile/2021_08_07_12_16_28/DESKTOP-JR7V9NU.kernel_stats.pb\n",
      "\n"
     ]
    },
    {
     "name": "stdout",
     "output_type": "stream",
     "text": [
      "1563/1563 [==============================] - 17s 9ms/step - loss: 1.5693 - accuracy: 0.4349 - val_loss: 1.5042 - val_accuracy: 0.4600\n",
      "Epoch 2/10\n",
      "1563/1563 [==============================] - 14s 9ms/step - loss: 1.5320 - accuracy: 0.4479 - val_loss: 1.4986 - val_accuracy: 0.4676\n",
      "Epoch 3/10\n",
      "1563/1563 [==============================] - 12s 8ms/step - loss: 1.5050 - accuracy: 0.4581 - val_loss: 1.4542 - val_accuracy: 0.4770\n",
      "Epoch 4/10\n",
      "1563/1563 [==============================] - 14s 9ms/step - loss: 1.4810 - accuracy: 0.4662 - val_loss: 1.4742 - val_accuracy: 0.4790\n",
      "Epoch 5/10\n",
      "1563/1563 [==============================] - 13s 8ms/step - loss: 1.4728 - accuracy: 0.4696 - val_loss: 1.4150 - val_accuracy: 0.4972\n",
      "Epoch 6/10\n",
      "1563/1563 [==============================] - 13s 9ms/step - loss: 1.4469 - accuracy: 0.4799 - val_loss: 1.4652 - val_accuracy: 0.4700\n",
      "Epoch 7/10\n",
      "1563/1563 [==============================] - 13s 9ms/step - loss: 1.4380 - accuracy: 0.4824 - val_loss: 1.4280 - val_accuracy: 0.4890\n",
      "Epoch 8/10\n",
      "1563/1563 [==============================] - 12s 8ms/step - loss: 1.4193 - accuracy: 0.4839 - val_loss: 1.3807 - val_accuracy: 0.5008\n",
      "Epoch 9/10\n",
      "1563/1563 [==============================] - 13s 9ms/step - loss: 1.4061 - accuracy: 0.4918 - val_loss: 1.4186 - val_accuracy: 0.4910\n",
      "Epoch 10/10\n",
      "1563/1563 [==============================] - 13s 8ms/step - loss: 1.3892 - accuracy: 0.5019 - val_loss: 1.3556 - val_accuracy: 0.5116\n"
     ]
    },
    {
     "name": "stderr",
     "output_type": "stream",
     "text": [
      "2021-08-07 12:18:41.909995: I tensorflow/core/profiler/lib/profiler_session.cc:136] Profiler session initializing.\n",
      "2021-08-07 12:18:41.910066: I tensorflow/core/profiler/lib/profiler_session.cc:155] Profiler session started.\n",
      "2021-08-07 12:18:41.910107: I tensorflow/core/profiler/lib/profiler_session.cc:172] Profiler session tear down.\n"
     ]
    },
    {
     "name": "stdout",
     "output_type": "stream",
     "text": [
      "Epoch 1/10\n",
      "  10/1563 [..............................] - ETA: 34s - loss: 1.5530 - accuracy: 0.4561 "
     ]
    },
    {
     "name": "stderr",
     "output_type": "stream",
     "text": [
      "2021-08-07 12:18:44.377761: I tensorflow/core/profiler/lib/profiler_session.cc:136] Profiler session initializing.\n",
      "2021-08-07 12:18:44.377819: I tensorflow/core/profiler/lib/profiler_session.cc:155] Profiler session started.\n",
      "2021-08-07 12:18:44.446994: I tensorflow/core/profiler/lib/profiler_session.cc:71] Profiler session collecting data.\n",
      "2021-08-07 12:18:44.452633: I tensorflow/core/profiler/lib/profiler_session.cc:172] Profiler session tear down.\n",
      "2021-08-07 12:18:44.459388: I tensorflow/core/profiler/rpc/client/save_profile.cc:137] Creating directory: ./my_logs/run_004/train/plugins/profile/2021_08_07_12_18_44\n",
      "2021-08-07 12:18:44.463860: I tensorflow/core/profiler/rpc/client/save_profile.cc:143] Dumped gzipped tool data for trace.json.gz to ./my_logs/run_004/train/plugins/profile/2021_08_07_12_18_44/DESKTOP-JR7V9NU.trace.json.gz\n",
      "2021-08-07 12:18:44.471497: I tensorflow/core/profiler/rpc/client/save_profile.cc:137] Creating directory: ./my_logs/run_004/train/plugins/profile/2021_08_07_12_18_44\n",
      "2021-08-07 12:18:44.471565: I tensorflow/core/profiler/rpc/client/save_profile.cc:143] Dumped gzipped tool data for memory_profile.json.gz to ./my_logs/run_004/train/plugins/profile/2021_08_07_12_18_44/DESKTOP-JR7V9NU.memory_profile.json.gz\n",
      "2021-08-07 12:18:44.472087: I tensorflow/core/profiler/rpc/client/capture_profile.cc:251] Creating directory: ./my_logs/run_004/train/plugins/profile/2021_08_07_12_18_44Dumped tool data for xplane.pb to ./my_logs/run_004/train/plugins/profile/2021_08_07_12_18_44/DESKTOP-JR7V9NU.xplane.pb\n",
      "Dumped tool data for overview_page.pb to ./my_logs/run_004/train/plugins/profile/2021_08_07_12_18_44/DESKTOP-JR7V9NU.overview_page.pb\n",
      "Dumped tool data for input_pipeline.pb to ./my_logs/run_004/train/plugins/profile/2021_08_07_12_18_44/DESKTOP-JR7V9NU.input_pipeline.pb\n",
      "Dumped tool data for tensorflow_stats.pb to ./my_logs/run_004/train/plugins/profile/2021_08_07_12_18_44/DESKTOP-JR7V9NU.tensorflow_stats.pb\n",
      "Dumped tool data for kernel_stats.pb to ./my_logs/run_004/train/plugins/profile/2021_08_07_12_18_44/DESKTOP-JR7V9NU.kernel_stats.pb\n",
      "\n"
     ]
    },
    {
     "name": "stdout",
     "output_type": "stream",
     "text": [
      "1563/1563 [==============================] - 16s 9ms/step - loss: 1.5169 - accuracy: 0.4571 - val_loss: 1.5956 - val_accuracy: 0.4350\n",
      "Epoch 2/10\n",
      "1563/1563 [==============================] - 13s 8ms/step - loss: 1.4915 - accuracy: 0.4632 - val_loss: 1.6249 - val_accuracy: 0.4274\n",
      "Epoch 3/10\n",
      "1563/1563 [==============================] - 14s 9ms/step - loss: 1.4671 - accuracy: 0.4728 - val_loss: 1.4738 - val_accuracy: 0.4806\n",
      "Epoch 4/10\n",
      "1563/1563 [==============================] - 13s 8ms/step - loss: 1.4334 - accuracy: 0.4840 - val_loss: 1.4286 - val_accuracy: 0.4920\n",
      "Epoch 5/10\n",
      "1563/1563 [==============================] - 13s 8ms/step - loss: 1.4168 - accuracy: 0.4880 - val_loss: 1.5202 - val_accuracy: 0.4532\n",
      "Epoch 6/10\n",
      "1563/1563 [==============================] - 13s 8ms/step - loss: 1.3993 - accuracy: 0.4988 - val_loss: 1.3651 - val_accuracy: 0.5058\n",
      "Epoch 7/10\n",
      "1563/1563 [==============================] - 14s 9ms/step - loss: 1.3838 - accuracy: 0.5023 - val_loss: 1.3044 - val_accuracy: 0.5300\n",
      "Epoch 8/10\n",
      "1563/1563 [==============================] - 14s 9ms/step - loss: 1.3640 - accuracy: 0.5097 - val_loss: 1.3837 - val_accuracy: 0.4956\n",
      "Epoch 9/10\n",
      "1563/1563 [==============================] - 14s 9ms/step - loss: 1.3627 - accuracy: 0.5137 - val_loss: 1.3844 - val_accuracy: 0.5086\n",
      "Epoch 10/10\n",
      "1563/1563 [==============================] - 14s 9ms/step - loss: 1.3547 - accuracy: 0.5148 - val_loss: 1.3490 - val_accuracy: 0.5118\n"
     ]
    },
    {
     "name": "stderr",
     "output_type": "stream",
     "text": [
      "2021-08-07 12:20:58.817785: I tensorflow/core/profiler/lib/profiler_session.cc:136] Profiler session initializing.\n",
      "2021-08-07 12:20:58.817853: I tensorflow/core/profiler/lib/profiler_session.cc:155] Profiler session started.\n",
      "2021-08-07 12:20:58.817901: I tensorflow/core/profiler/lib/profiler_session.cc:172] Profiler session tear down.\n"
     ]
    },
    {
     "name": "stdout",
     "output_type": "stream",
     "text": [
      "Epoch 1/10\n",
      "   9/1563 [..............................] - ETA: 43s - loss: 1.8976 - accuracy: 0.3789  "
     ]
    },
    {
     "name": "stderr",
     "output_type": "stream",
     "text": [
      "2021-08-07 12:21:01.843442: I tensorflow/core/profiler/lib/profiler_session.cc:136] Profiler session initializing.\n",
      "2021-08-07 12:21:01.843497: I tensorflow/core/profiler/lib/profiler_session.cc:155] Profiler session started.\n",
      "2021-08-07 12:21:01.925282: I tensorflow/core/profiler/lib/profiler_session.cc:71] Profiler session collecting data.\n",
      "2021-08-07 12:21:01.931930: I tensorflow/core/profiler/lib/profiler_session.cc:172] Profiler session tear down.\n",
      "2021-08-07 12:21:01.940272: I tensorflow/core/profiler/rpc/client/save_profile.cc:137] Creating directory: ./my_logs/run_005/train/plugins/profile/2021_08_07_12_21_01\n",
      "2021-08-07 12:21:01.944986: I tensorflow/core/profiler/rpc/client/save_profile.cc:143] Dumped gzipped tool data for trace.json.gz to ./my_logs/run_005/train/plugins/profile/2021_08_07_12_21_01/DESKTOP-JR7V9NU.trace.json.gz\n",
      "2021-08-07 12:21:01.954663: I tensorflow/core/profiler/rpc/client/save_profile.cc:137] Creating directory: ./my_logs/run_005/train/plugins/profile/2021_08_07_12_21_01\n",
      "2021-08-07 12:21:01.954808: I tensorflow/core/profiler/rpc/client/save_profile.cc:143] Dumped gzipped tool data for memory_profile.json.gz to ./my_logs/run_005/train/plugins/profile/2021_08_07_12_21_01/DESKTOP-JR7V9NU.memory_profile.json.gz\n",
      "2021-08-07 12:21:01.955689: I tensorflow/core/profiler/rpc/client/capture_profile.cc:251] Creating directory: ./my_logs/run_005/train/plugins/profile/2021_08_07_12_21_01Dumped tool data for xplane.pb to ./my_logs/run_005/train/plugins/profile/2021_08_07_12_21_01/DESKTOP-JR7V9NU.xplane.pb\n",
      "Dumped tool data for overview_page.pb to ./my_logs/run_005/train/plugins/profile/2021_08_07_12_21_01/DESKTOP-JR7V9NU.overview_page.pb\n",
      "Dumped tool data for input_pipeline.pb to ./my_logs/run_005/train/plugins/profile/2021_08_07_12_21_01/DESKTOP-JR7V9NU.input_pipeline.pb\n",
      "Dumped tool data for tensorflow_stats.pb to ./my_logs/run_005/train/plugins/profile/2021_08_07_12_21_01/DESKTOP-JR7V9NU.tensorflow_stats.pb\n",
      "Dumped tool data for kernel_stats.pb to ./my_logs/run_005/train/plugins/profile/2021_08_07_12_21_01/DESKTOP-JR7V9NU.kernel_stats.pb\n",
      "\n"
     ]
    },
    {
     "name": "stdout",
     "output_type": "stream",
     "text": [
      "1563/1563 [==============================] - 18s 10ms/step - loss: 1.6789 - accuracy: 0.4008 - val_loss: 1.6449 - val_accuracy: 0.4114\n",
      "Epoch 2/10\n",
      "1563/1563 [==============================] - 14s 9ms/step - loss: 1.5978 - accuracy: 0.4312 - val_loss: 1.5194 - val_accuracy: 0.4520\n",
      "Epoch 3/10\n",
      "1563/1563 [==============================] - 13s 8ms/step - loss: 1.5517 - accuracy: 0.4429 - val_loss: 1.5898 - val_accuracy: 0.4368\n",
      "Epoch 4/10\n",
      "1563/1563 [==============================] - 13s 8ms/step - loss: 1.5149 - accuracy: 0.4604 - val_loss: 1.4702 - val_accuracy: 0.4830\n",
      "Epoch 5/10\n",
      "1563/1563 [==============================] - 13s 8ms/step - loss: 1.4796 - accuracy: 0.4706 - val_loss: 1.5409 - val_accuracy: 0.4544\n",
      "Epoch 6/10\n",
      "1563/1563 [==============================] - 12s 8ms/step - loss: 1.4545 - accuracy: 0.4764 - val_loss: 1.5039 - val_accuracy: 0.4630\n",
      "Epoch 7/10\n",
      "1563/1563 [==============================] - 13s 8ms/step - loss: 1.4423 - accuracy: 0.4898 - val_loss: 1.4924 - val_accuracy: 0.4756\n",
      "Epoch 8/10\n",
      "1563/1563 [==============================] - 13s 8ms/step - loss: 1.4117 - accuracy: 0.4966 - val_loss: 1.3985 - val_accuracy: 0.4934\n",
      "Epoch 9/10\n",
      "1563/1563 [==============================] - 13s 9ms/step - loss: 1.4066 - accuracy: 0.5018 - val_loss: 1.3666 - val_accuracy: 0.5134\n",
      "Epoch 10/10\n",
      "1563/1563 [==============================] - 12s 8ms/step - loss: 1.3808 - accuracy: 0.5070 - val_loss: 1.3403 - val_accuracy: 0.5210\n"
     ]
    },
    {
     "name": "stderr",
     "output_type": "stream",
     "text": [
      "2021-08-07 12:23:13.846164: I tensorflow/core/profiler/lib/profiler_session.cc:136] Profiler session initializing.\n",
      "2021-08-07 12:23:13.846230: I tensorflow/core/profiler/lib/profiler_session.cc:155] Profiler session started.\n",
      "2021-08-07 12:23:13.846271: I tensorflow/core/profiler/lib/profiler_session.cc:172] Profiler session tear down.\n"
     ]
    },
    {
     "name": "stdout",
     "output_type": "stream",
     "text": [
      "Epoch 1/10\n",
      "  10/1563 [..............................] - ETA: 31s - loss: 1.9500 - accuracy: 0.4180 "
     ]
    },
    {
     "name": "stderr",
     "output_type": "stream",
     "text": [
      "2021-08-07 12:23:15.890542: I tensorflow/core/profiler/lib/profiler_session.cc:136] Profiler session initializing.\n",
      "2021-08-07 12:23:15.890593: I tensorflow/core/profiler/lib/profiler_session.cc:155] Profiler session started.\n",
      "2021-08-07 12:23:15.956010: I tensorflow/core/profiler/lib/profiler_session.cc:71] Profiler session collecting data.\n",
      "2021-08-07 12:23:15.961666: I tensorflow/core/profiler/lib/profiler_session.cc:172] Profiler session tear down.\n",
      "2021-08-07 12:23:15.968843: I tensorflow/core/profiler/rpc/client/save_profile.cc:137] Creating directory: ./my_logs/run_006/train/plugins/profile/2021_08_07_12_23_15\n",
      "2021-08-07 12:23:15.972917: I tensorflow/core/profiler/rpc/client/save_profile.cc:143] Dumped gzipped tool data for trace.json.gz to ./my_logs/run_006/train/plugins/profile/2021_08_07_12_23_15/DESKTOP-JR7V9NU.trace.json.gz\n",
      "2021-08-07 12:23:15.980525: I tensorflow/core/profiler/rpc/client/save_profile.cc:137] Creating directory: ./my_logs/run_006/train/plugins/profile/2021_08_07_12_23_15\n",
      "2021-08-07 12:23:15.980609: I tensorflow/core/profiler/rpc/client/save_profile.cc:143] Dumped gzipped tool data for memory_profile.json.gz to ./my_logs/run_006/train/plugins/profile/2021_08_07_12_23_15/DESKTOP-JR7V9NU.memory_profile.json.gz\n",
      "2021-08-07 12:23:15.981563: I tensorflow/core/profiler/rpc/client/capture_profile.cc:251] Creating directory: ./my_logs/run_006/train/plugins/profile/2021_08_07_12_23_15Dumped tool data for xplane.pb to ./my_logs/run_006/train/plugins/profile/2021_08_07_12_23_15/DESKTOP-JR7V9NU.xplane.pb\n",
      "Dumped tool data for overview_page.pb to ./my_logs/run_006/train/plugins/profile/2021_08_07_12_23_15/DESKTOP-JR7V9NU.overview_page.pb\n",
      "Dumped tool data for input_pipeline.pb to ./my_logs/run_006/train/plugins/profile/2021_08_07_12_23_15/DESKTOP-JR7V9NU.input_pipeline.pb\n",
      "Dumped tool data for tensorflow_stats.pb to ./my_logs/run_006/train/plugins/profile/2021_08_07_12_23_15/DESKTOP-JR7V9NU.tensorflow_stats.pb\n",
      "Dumped tool data for kernel_stats.pb to ./my_logs/run_006/train/plugins/profile/2021_08_07_12_23_15/DESKTOP-JR7V9NU.kernel_stats.pb\n",
      "\n"
     ]
    },
    {
     "name": "stdout",
     "output_type": "stream",
     "text": [
      "1563/1563 [==============================] - 18s 10ms/step - loss: 1.8091 - accuracy: 0.3631 - val_loss: 1.6579 - val_accuracy: 0.3866\n",
      "Epoch 2/10\n",
      "1563/1563 [==============================] - 14s 9ms/step - loss: 1.6907 - accuracy: 0.3955 - val_loss: 1.7072 - val_accuracy: 0.3930\n",
      "Epoch 3/10\n",
      "1563/1563 [==============================] - 13s 9ms/step - loss: 1.6364 - accuracy: 0.4204 - val_loss: 1.6157 - val_accuracy: 0.4202\n",
      "Epoch 4/10\n",
      "1563/1563 [==============================] - 14s 9ms/step - loss: 1.5855 - accuracy: 0.4340 - val_loss: 1.5905 - val_accuracy: 0.4354\n",
      "Epoch 5/10\n",
      "1563/1563 [==============================] - 14s 9ms/step - loss: 1.8488 - accuracy: 0.3385 - val_loss: 1.9242 - val_accuracy: 0.2660\n",
      "Epoch 6/10\n",
      "1563/1563 [==============================] - 13s 8ms/step - loss: 1.8438 - accuracy: 0.2895 - val_loss: 1.7707 - val_accuracy: 0.3244\n",
      "Epoch 7/10\n",
      "1563/1563 [==============================] - 668s 428ms/step - loss: 1.7757 - accuracy: 0.3258 - val_loss: 1.7494 - val_accuracy: 0.3446\n",
      "Epoch 8/10\n",
      "1563/1563 [==============================] - 11s 7ms/step - loss: 1.8987 - accuracy: 0.3006 - val_loss: 1.8859 - val_accuracy: 0.2774\n",
      "Epoch 9/10\n",
      "1563/1563 [==============================] - 10s 6ms/step - loss: 1.8349 - accuracy: 0.2984 - val_loss: 1.8014 - val_accuracy: 0.3366\n",
      "Epoch 10/10\n",
      "1563/1563 [==============================] - 11s 7ms/step - loss: 1.8176 - accuracy: 0.3156 - val_loss: 1.8431 - val_accuracy: 0.2816\n"
     ]
    },
    {
     "name": "stderr",
     "output_type": "stream",
     "text": [
      "2021-08-07 12:36:19.210277: I tensorflow/core/profiler/lib/profiler_session.cc:136] Profiler session initializing.\n",
      "2021-08-07 12:36:19.210327: I tensorflow/core/profiler/lib/profiler_session.cc:155] Profiler session started.\n",
      "2021-08-07 12:36:19.210359: I tensorflow/core/profiler/lib/profiler_session.cc:172] Profiler session tear down.\n"
     ]
    },
    {
     "name": "stdout",
     "output_type": "stream",
     "text": [
      "Epoch 1/10\n",
      "  17/1563 [..............................] - ETA: 20s - loss: 2.5839 - accuracy: 0.1580"
     ]
    },
    {
     "name": "stderr",
     "output_type": "stream",
     "text": [
      "2021-08-07 12:36:21.241149: I tensorflow/core/profiler/lib/profiler_session.cc:136] Profiler session initializing.\n",
      "2021-08-07 12:36:21.241191: I tensorflow/core/profiler/lib/profiler_session.cc:155] Profiler session started.\n",
      "2021-08-07 12:36:21.293832: I tensorflow/core/profiler/lib/profiler_session.cc:71] Profiler session collecting data.\n",
      "2021-08-07 12:36:21.298163: I tensorflow/core/profiler/lib/profiler_session.cc:172] Profiler session tear down.\n",
      "2021-08-07 12:36:21.303736: I tensorflow/core/profiler/rpc/client/save_profile.cc:137] Creating directory: ./my_logs/run_007/train/plugins/profile/2021_08_07_12_36_21\n",
      "2021-08-07 12:36:21.307299: I tensorflow/core/profiler/rpc/client/save_profile.cc:143] Dumped gzipped tool data for trace.json.gz to ./my_logs/run_007/train/plugins/profile/2021_08_07_12_36_21/DESKTOP-JR7V9NU.trace.json.gz\n",
      "2021-08-07 12:36:21.314085: I tensorflow/core/profiler/rpc/client/save_profile.cc:137] Creating directory: ./my_logs/run_007/train/plugins/profile/2021_08_07_12_36_21\n",
      "2021-08-07 12:36:21.314150: I tensorflow/core/profiler/rpc/client/save_profile.cc:143] Dumped gzipped tool data for memory_profile.json.gz to ./my_logs/run_007/train/plugins/profile/2021_08_07_12_36_21/DESKTOP-JR7V9NU.memory_profile.json.gz\n",
      "2021-08-07 12:36:21.314679: I tensorflow/core/profiler/rpc/client/capture_profile.cc:251] Creating directory: ./my_logs/run_007/train/plugins/profile/2021_08_07_12_36_21Dumped tool data for xplane.pb to ./my_logs/run_007/train/plugins/profile/2021_08_07_12_36_21/DESKTOP-JR7V9NU.xplane.pb\n",
      "Dumped tool data for overview_page.pb to ./my_logs/run_007/train/plugins/profile/2021_08_07_12_36_21/DESKTOP-JR7V9NU.overview_page.pb\n",
      "Dumped tool data for input_pipeline.pb to ./my_logs/run_007/train/plugins/profile/2021_08_07_12_36_21/DESKTOP-JR7V9NU.input_pipeline.pb\n",
      "Dumped tool data for tensorflow_stats.pb to ./my_logs/run_007/train/plugins/profile/2021_08_07_12_36_21/DESKTOP-JR7V9NU.tensorflow_stats.pb\n",
      "Dumped tool data for kernel_stats.pb to ./my_logs/run_007/train/plugins/profile/2021_08_07_12_36_21/DESKTOP-JR7V9NU.kernel_stats.pb\n",
      "\n"
     ]
    },
    {
     "name": "stdout",
     "output_type": "stream",
     "text": [
      "1563/1563 [==============================] - 13s 7ms/step - loss: 359.3513 - accuracy: 0.2026 - val_loss: 2.0350 - val_accuracy: 0.2352\n",
      "Epoch 2/10\n",
      "1563/1563 [==============================] - 11s 7ms/step - loss: 4.5857 - accuracy: 0.2630 - val_loss: 2.1942 - val_accuracy: 0.1756\n",
      "Epoch 3/10\n",
      "1563/1563 [==============================] - 12s 7ms/step - loss: 2.1016 - accuracy: 0.1901 - val_loss: 1.9988 - val_accuracy: 0.2210\n",
      "Epoch 4/10\n",
      "1563/1563 [==============================] - 12s 8ms/step - loss: 2.1337 - accuracy: 0.2250 - val_loss: 2.2466 - val_accuracy: 0.1658\n",
      "Epoch 5/10\n",
      "1563/1563 [==============================] - 13s 8ms/step - loss: 15.0493 - accuracy: 0.1479 - val_loss: 2.3196 - val_accuracy: 0.1000\n",
      "Epoch 6/10\n",
      "1563/1563 [==============================] - 13s 8ms/step - loss: 2.3218 - accuracy: 0.0988 - val_loss: 2.3311 - val_accuracy: 0.1000\n",
      "Epoch 7/10\n",
      "1563/1563 [==============================] - 13s 8ms/step - loss: 2.3223 - accuracy: 0.1009 - val_loss: 2.3173 - val_accuracy: 0.1000\n",
      "Epoch 8/10\n",
      "1563/1563 [==============================] - 12s 8ms/step - loss: 2.3229 - accuracy: 0.0986 - val_loss: 2.3157 - val_accuracy: 0.1000\n",
      "Epoch 9/10\n",
      "1563/1563 [==============================] - 13s 8ms/step - loss: 2.3224 - accuracy: 0.0993 - val_loss: 2.3091 - val_accuracy: 0.1000\n",
      "Epoch 10/10\n",
      "1563/1563 [==============================] - 13s 8ms/step - loss: 2.3237 - accuracy: 0.0984 - val_loss: 2.3230 - val_accuracy: 0.1000\n"
     ]
    },
    {
     "name": "stderr",
     "output_type": "stream",
     "text": [
      "2021-08-07 12:38:23.105786: I tensorflow/core/profiler/lib/profiler_session.cc:136] Profiler session initializing.\n",
      "2021-08-07 12:38:23.105843: I tensorflow/core/profiler/lib/profiler_session.cc:155] Profiler session started.\n",
      "2021-08-07 12:38:23.105877: I tensorflow/core/profiler/lib/profiler_session.cc:172] Profiler session tear down.\n"
     ]
    },
    {
     "name": "stdout",
     "output_type": "stream",
     "text": [
      "Epoch 1/10\n",
      "  10/1563 [..............................] - ETA: 30s - loss: 2.5365 - accuracy: 0.0868 "
     ]
    },
    {
     "name": "stderr",
     "output_type": "stream",
     "text": [
      "2021-08-07 12:38:25.185245: I tensorflow/core/profiler/lib/profiler_session.cc:136] Profiler session initializing.\n",
      "2021-08-07 12:38:25.185293: I tensorflow/core/profiler/lib/profiler_session.cc:155] Profiler session started.\n",
      "2021-08-07 12:38:25.246542: I tensorflow/core/profiler/lib/profiler_session.cc:71] Profiler session collecting data.\n",
      "2021-08-07 12:38:25.251538: I tensorflow/core/profiler/lib/profiler_session.cc:172] Profiler session tear down.\n",
      "2021-08-07 12:38:25.257665: I tensorflow/core/profiler/rpc/client/save_profile.cc:137] Creating directory: ./my_logs/run_008/train/plugins/profile/2021_08_07_12_38_25\n",
      "2021-08-07 12:38:25.261327: I tensorflow/core/profiler/rpc/client/save_profile.cc:143] Dumped gzipped tool data for trace.json.gz to ./my_logs/run_008/train/plugins/profile/2021_08_07_12_38_25/DESKTOP-JR7V9NU.trace.json.gz\n",
      "2021-08-07 12:38:25.268523: I tensorflow/core/profiler/rpc/client/save_profile.cc:137] Creating directory: ./my_logs/run_008/train/plugins/profile/2021_08_07_12_38_25\n",
      "2021-08-07 12:38:25.268587: I tensorflow/core/profiler/rpc/client/save_profile.cc:143] Dumped gzipped tool data for memory_profile.json.gz to ./my_logs/run_008/train/plugins/profile/2021_08_07_12_38_25/DESKTOP-JR7V9NU.memory_profile.json.gz\n",
      "2021-08-07 12:38:25.269182: I tensorflow/core/profiler/rpc/client/capture_profile.cc:251] Creating directory: ./my_logs/run_008/train/plugins/profile/2021_08_07_12_38_25Dumped tool data for xplane.pb to ./my_logs/run_008/train/plugins/profile/2021_08_07_12_38_25/DESKTOP-JR7V9NU.xplane.pb\n",
      "Dumped tool data for overview_page.pb to ./my_logs/run_008/train/plugins/profile/2021_08_07_12_38_25/DESKTOP-JR7V9NU.overview_page.pb\n",
      "Dumped tool data for input_pipeline.pb to ./my_logs/run_008/train/plugins/profile/2021_08_07_12_38_25/DESKTOP-JR7V9NU.input_pipeline.pb\n",
      "Dumped tool data for tensorflow_stats.pb to ./my_logs/run_008/train/plugins/profile/2021_08_07_12_38_25/DESKTOP-JR7V9NU.tensorflow_stats.pb\n",
      "Dumped tool data for kernel_stats.pb to ./my_logs/run_008/train/plugins/profile/2021_08_07_12_38_25/DESKTOP-JR7V9NU.kernel_stats.pb\n",
      "\n"
     ]
    },
    {
     "name": "stdout",
     "output_type": "stream",
     "text": [
      "1563/1563 [==============================] - 16s 9ms/step - loss: 2.4252 - accuracy: 0.0999 - val_loss: 2.3979 - val_accuracy: 0.1000\n",
      "Epoch 2/10\n",
      "1563/1563 [==============================] - 15s 9ms/step - loss: 2.3824 - accuracy: 0.1003 - val_loss: 2.3664 - val_accuracy: 0.1000\n",
      "Epoch 3/10\n",
      "1563/1563 [==============================] - 13s 8ms/step - loss: 2.3770 - accuracy: 0.1024 - val_loss: 2.4358 - val_accuracy: 0.1000\n",
      "Epoch 4/10\n",
      "1563/1563 [==============================] - 12s 8ms/step - loss: 2.3698 - accuracy: 0.1007 - val_loss: 2.4097 - val_accuracy: 0.1000\n",
      "Epoch 5/10\n",
      "1563/1563 [==============================] - 12s 8ms/step - loss: 2.3680 - accuracy: 0.0985 - val_loss: 2.5331 - val_accuracy: 0.1000\n",
      "Epoch 6/10\n",
      "1563/1563 [==============================] - 12s 8ms/step - loss: 2.3643 - accuracy: 0.1010 - val_loss: 2.3968 - val_accuracy: 0.1000\n",
      "Epoch 7/10\n",
      "1563/1563 [==============================] - 12s 8ms/step - loss: 2.3644 - accuracy: 0.1001 - val_loss: 2.3516 - val_accuracy: 0.1000\n",
      "Epoch 8/10\n",
      "1563/1563 [==============================] - 12s 8ms/step - loss: 2.3623 - accuracy: 0.1012 - val_loss: 2.3921 - val_accuracy: 0.1000\n",
      "Epoch 9/10\n",
      "1563/1563 [==============================] - 12s 8ms/step - loss: 2.3632 - accuracy: 0.0988 - val_loss: 2.3994 - val_accuracy: 0.1000\n",
      "Epoch 10/10\n",
      "1563/1563 [==============================] - 12s 8ms/step - loss: 2.3617 - accuracy: 0.0993 - val_loss: 2.3965 - val_accuracy: 0.1000\n"
     ]
    }
   ],
   "source": [
    "lr_arr = [ 1e-5, 3e-5, 5e-5, 1e-4, 3e-4, 1e-3, 3e-3, 1e-2 ]\n",
    "run_index = 1\n",
    "for ler_rate in lr_arr:\n",
    "    run_logdir = os.path.join(os.curdir, \"my_logs\", \"run_{:03d}\".format(run_index))\n",
    "    tensorboard_cb = keras.callbacks.TensorBoard(run_logdir)\n",
    "    optimizer = keras.optimizers.Nadam(lr=ler_rate)\n",
    "    model.compile(loss=\"sparse_categorical_crossentropy\",\n",
    "                  optimizer=optimizer,\n",
    "                  metrics=[\"accuracy\"])\n",
    "    model.fit(x_train, y_train, epochs=10,\n",
    "          validation_data=(x_val, y_val),\n",
    "          callbacks=[tensorboard_cb])\n",
    "    tf.keras.backend.clear_session()\n",
    "    run_index +=1"
   ]
  },
  {
   "cell_type": "code",
   "execution_count": 1,
   "id": "d5625d81-db6a-478b-b6cd-b7095ec6e5bc",
   "metadata": {},
   "outputs": [
    {
     "ename": "NameError",
     "evalue": "name 'keras' is not defined",
     "output_type": "error",
     "traceback": [
      "\u001b[0;31m---------------------------------------------------------------------------\u001b[0m",
      "\u001b[0;31mNameError\u001b[0m                                 Traceback (most recent call last)",
      "\u001b[0;32m/tmp/ipykernel_1162/1312844626.py\u001b[0m in \u001b[0;36m<module>\u001b[0;34m\u001b[0m\n\u001b[0;32m----> 1\u001b[0;31m \u001b[0mearly_stopping_cb\u001b[0m \u001b[0;34m=\u001b[0m \u001b[0mkeras\u001b[0m\u001b[0;34m.\u001b[0m\u001b[0mcallbacks\u001b[0m\u001b[0;34m.\u001b[0m\u001b[0mEarlyStopping\u001b[0m\u001b[0;34m(\u001b[0m\u001b[0mpatience\u001b[0m\u001b[0;34m=\u001b[0m\u001b[0;36m20\u001b[0m\u001b[0;34m)\u001b[0m\u001b[0;34m\u001b[0m\u001b[0;34m\u001b[0m\u001b[0m\n\u001b[0m\u001b[1;32m      2\u001b[0m \u001b[0mmodel_checkpoint_cb\u001b[0m \u001b[0;34m=\u001b[0m \u001b[0mkeras\u001b[0m\u001b[0;34m.\u001b[0m\u001b[0mcallbacks\u001b[0m\u001b[0;34m.\u001b[0m\u001b[0mModelCheckpoint\u001b[0m\u001b[0;34m(\u001b[0m\u001b[0;34m\"my_cifar10_model.h5\"\u001b[0m\u001b[0;34m,\u001b[0m \u001b[0msave_best_only\u001b[0m\u001b[0;34m=\u001b[0m\u001b[0;32mTrue\u001b[0m\u001b[0;34m)\u001b[0m\u001b[0;34m\u001b[0m\u001b[0;34m\u001b[0m\u001b[0m\n\u001b[1;32m      3\u001b[0m \u001b[0mrun_index\u001b[0m \u001b[0;34m=\u001b[0m \u001b[0;36m1\u001b[0m \u001b[0;31m# increment every time you train the model\u001b[0m\u001b[0;34m\u001b[0m\u001b[0;34m\u001b[0m\u001b[0m\n\u001b[1;32m      4\u001b[0m \u001b[0mrun_logdir\u001b[0m \u001b[0;34m=\u001b[0m \u001b[0mos\u001b[0m\u001b[0;34m.\u001b[0m\u001b[0mpath\u001b[0m\u001b[0;34m.\u001b[0m\u001b[0mjoin\u001b[0m\u001b[0;34m(\u001b[0m\u001b[0mos\u001b[0m\u001b[0;34m.\u001b[0m\u001b[0mcurdir\u001b[0m\u001b[0;34m,\u001b[0m \u001b[0;34m\"my_logs\"\u001b[0m\u001b[0;34m,\u001b[0m \u001b[0;34m\"run_{:03d}\"\u001b[0m\u001b[0;34m.\u001b[0m\u001b[0mformat\u001b[0m\u001b[0;34m(\u001b[0m\u001b[0mrun_index\u001b[0m\u001b[0;34m)\u001b[0m\u001b[0;34m)\u001b[0m\u001b[0;34m\u001b[0m\u001b[0;34m\u001b[0m\u001b[0m\n\u001b[1;32m      5\u001b[0m \u001b[0mtensorboard_cb\u001b[0m \u001b[0;34m=\u001b[0m \u001b[0mkeras\u001b[0m\u001b[0;34m.\u001b[0m\u001b[0mcallbacks\u001b[0m\u001b[0;34m.\u001b[0m\u001b[0mTensorBoard\u001b[0m\u001b[0;34m(\u001b[0m\u001b[0mrun_logdir\u001b[0m\u001b[0;34m)\u001b[0m\u001b[0;34m\u001b[0m\u001b[0;34m\u001b[0m\u001b[0m\n",
      "\u001b[0;31mNameError\u001b[0m: name 'keras' is not defined"
     ]
    }
   ],
   "source": [
    "early_stopping_cb = keras.callbacks.EarlyStopping(patience=20)\n",
    "model_checkpoint_cb = keras.callbacks.ModelCheckpoint(\"my_cifar10_model.h5\", save_best_only=True)\n",
    "run_index = 1 # increment every time you train the model\n",
    "run_logdir = os.path.join(os.curdir, \"my_logs\", \"run_{:03d}\".format(run_index))\n",
    "tensorboard_cb = keras.callbacks.TensorBoard(run_logdir)\n",
    "callbacks = [early_stopping_cb, model_checkpoint_cb, tensorboard_cb]"
   ]
  },
  {
   "cell_type": "code",
   "execution_count": 6,
   "id": "83daa6ce-e4e3-4e67-a975-26386afcab54",
   "metadata": {},
   "outputs": [],
   "source": [
    "tf.keras.backend.clear_session()"
   ]
  },
  {
   "cell_type": "code",
   "execution_count": 9,
   "id": "c1790e4c-1d15-4a7c-9f5d-8753ca6858e3",
   "metadata": {},
   "outputs": [
    {
     "name": "stderr",
     "output_type": "stream",
     "text": [
      "2021-08-08 15:39:09.553614: I tensorflow/core/profiler/lib/profiler_session.cc:136] Profiler session initializing.\n",
      "2021-08-08 15:39:09.553675: I tensorflow/core/profiler/lib/profiler_session.cc:155] Profiler session started.\n",
      "2021-08-08 15:39:09.553716: I tensorflow/core/profiler/lib/profiler_session.cc:172] Profiler session tear down.\n"
     ]
    },
    {
     "name": "stdout",
     "output_type": "stream",
     "text": [
      "Epoch 1/100\n",
      "  10/1563 [..............................] - ETA: 36s - loss: 1.7915 - accuracy: 0.3798 "
     ]
    },
    {
     "name": "stderr",
     "output_type": "stream",
     "text": [
      "2021-08-08 15:39:11.856227: I tensorflow/core/profiler/lib/profiler_session.cc:136] Profiler session initializing.\n",
      "2021-08-08 15:39:11.856275: I tensorflow/core/profiler/lib/profiler_session.cc:155] Profiler session started.\n",
      "2021-08-08 15:39:11.933054: I tensorflow/core/profiler/lib/profiler_session.cc:71] Profiler session collecting data.\n",
      "2021-08-08 15:39:11.939957: I tensorflow/core/profiler/lib/profiler_session.cc:172] Profiler session tear down.\n",
      "2021-08-08 15:39:11.949010: I tensorflow/core/profiler/rpc/client/save_profile.cc:137] Creating directory: ./my_logs/modelo_punto_2/train/plugins/profile/2021_08_08_15_39_11\n",
      "2021-08-08 15:39:11.954582: I tensorflow/core/profiler/rpc/client/save_profile.cc:143] Dumped gzipped tool data for trace.json.gz to ./my_logs/modelo_punto_2/train/plugins/profile/2021_08_08_15_39_11/DESKTOP-JR7V9NU.trace.json.gz\n",
      "2021-08-08 15:39:11.964845: I tensorflow/core/profiler/rpc/client/save_profile.cc:137] Creating directory: ./my_logs/modelo_punto_2/train/plugins/profile/2021_08_08_15_39_11\n",
      "2021-08-08 15:39:11.964931: I tensorflow/core/profiler/rpc/client/save_profile.cc:143] Dumped gzipped tool data for memory_profile.json.gz to ./my_logs/modelo_punto_2/train/plugins/profile/2021_08_08_15_39_11/DESKTOP-JR7V9NU.memory_profile.json.gz\n",
      "2021-08-08 15:39:11.965599: I tensorflow/core/profiler/rpc/client/capture_profile.cc:251] Creating directory: ./my_logs/modelo_punto_2/train/plugins/profile/2021_08_08_15_39_11Dumped tool data for xplane.pb to ./my_logs/modelo_punto_2/train/plugins/profile/2021_08_08_15_39_11/DESKTOP-JR7V9NU.xplane.pb\n",
      "Dumped tool data for overview_page.pb to ./my_logs/modelo_punto_2/train/plugins/profile/2021_08_08_15_39_11/DESKTOP-JR7V9NU.overview_page.pb\n",
      "Dumped tool data for input_pipeline.pb to ./my_logs/modelo_punto_2/train/plugins/profile/2021_08_08_15_39_11/DESKTOP-JR7V9NU.input_pipeline.pb\n",
      "Dumped tool data for tensorflow_stats.pb to ./my_logs/modelo_punto_2/train/plugins/profile/2021_08_08_15_39_11/DESKTOP-JR7V9NU.tensorflow_stats.pb\n",
      "Dumped tool data for kernel_stats.pb to ./my_logs/modelo_punto_2/train/plugins/profile/2021_08_08_15_39_11/DESKTOP-JR7V9NU.kernel_stats.pb\n",
      "\n"
     ]
    },
    {
     "name": "stdout",
     "output_type": "stream",
     "text": [
      "1563/1563 [==============================] - 14s 8ms/step - loss: 1.6876 - accuracy: 0.3880 - val_loss: 1.6449 - val_accuracy: 0.4072\n",
      "Epoch 2/100\n",
      "1563/1563 [==============================] - 12s 8ms/step - loss: 1.6410 - accuracy: 0.4102 - val_loss: 1.6162 - val_accuracy: 0.4150\n",
      "Epoch 3/100\n",
      "1563/1563 [==============================] - 13s 8ms/step - loss: 1.6062 - accuracy: 0.4190 - val_loss: 1.6324 - val_accuracy: 0.4020\n",
      "Epoch 4/100\n",
      "1563/1563 [==============================] - 12s 7ms/step - loss: 1.5790 - accuracy: 0.4295 - val_loss: 1.5399 - val_accuracy: 0.4480\n",
      "Epoch 5/100\n",
      "1563/1563 [==============================] - 12s 8ms/step - loss: 1.5571 - accuracy: 0.4389 - val_loss: 1.5664 - val_accuracy: 0.4490\n",
      "Epoch 6/100\n",
      "1563/1563 [==============================] - 13s 8ms/step - loss: 1.5306 - accuracy: 0.4475 - val_loss: 1.5182 - val_accuracy: 0.4604\n",
      "Epoch 7/100\n",
      "1563/1563 [==============================] - 12s 8ms/step - loss: 1.5227 - accuracy: 0.4495 - val_loss: 1.5205 - val_accuracy: 0.4530\n",
      "Epoch 8/100\n",
      "1563/1563 [==============================] - 12s 8ms/step - loss: 1.4969 - accuracy: 0.4578 - val_loss: 1.4672 - val_accuracy: 0.4756\n",
      "Epoch 9/100\n",
      "1563/1563 [==============================] - 13s 8ms/step - loss: 1.4879 - accuracy: 0.4593 - val_loss: 1.4872 - val_accuracy: 0.4682\n",
      "Epoch 10/100\n",
      "1563/1563 [==============================] - 12s 8ms/step - loss: 1.4759 - accuracy: 0.4702 - val_loss: 1.4286 - val_accuracy: 0.4834\n",
      "Epoch 11/100\n",
      "1563/1563 [==============================] - 12s 8ms/step - loss: 1.4591 - accuracy: 0.4724 - val_loss: 1.4274 - val_accuracy: 0.4872\n",
      "Epoch 12/100\n",
      "1563/1563 [==============================] - 12s 8ms/step - loss: 1.4486 - accuracy: 0.4769 - val_loss: 1.4460 - val_accuracy: 0.4808\n",
      "Epoch 13/100\n",
      "1563/1563 [==============================] - 11s 7ms/step - loss: 1.4282 - accuracy: 0.4829 - val_loss: 1.3936 - val_accuracy: 0.4958\n",
      "Epoch 14/100\n",
      "1563/1563 [==============================] - 12s 7ms/step - loss: 1.4272 - accuracy: 0.4832 - val_loss: 1.4211 - val_accuracy: 0.4892\n",
      "Epoch 15/100\n",
      "1563/1563 [==============================] - 11s 7ms/step - loss: 1.4104 - accuracy: 0.4907 - val_loss: 1.3869 - val_accuracy: 0.5012\n",
      "Epoch 16/100\n",
      "1563/1563 [==============================] - 12s 7ms/step - loss: 1.3989 - accuracy: 0.4916 - val_loss: 1.3563 - val_accuracy: 0.5152\n",
      "Epoch 17/100\n",
      "1563/1563 [==============================] - 12s 8ms/step - loss: 1.3847 - accuracy: 0.4970 - val_loss: 1.3663 - val_accuracy: 0.5052\n",
      "Epoch 18/100\n",
      "1563/1563 [==============================] - 12s 8ms/step - loss: 1.3757 - accuracy: 0.5020 - val_loss: 1.4000 - val_accuracy: 0.4882\n",
      "Epoch 19/100\n",
      "1563/1563 [==============================] - 12s 8ms/step - loss: 1.3669 - accuracy: 0.5023 - val_loss: 1.3488 - val_accuracy: 0.5162\n",
      "Epoch 20/100\n",
      "1563/1563 [==============================] - 14s 9ms/step - loss: 1.3561 - accuracy: 0.5080 - val_loss: 1.3059 - val_accuracy: 0.5246\n",
      "Epoch 21/100\n",
      "1563/1563 [==============================] - 12s 8ms/step - loss: 1.3441 - accuracy: 0.5151 - val_loss: 1.3713 - val_accuracy: 0.5124\n",
      "Epoch 22/100\n",
      "1563/1563 [==============================] - 12s 8ms/step - loss: 1.3312 - accuracy: 0.5186 - val_loss: 1.3071 - val_accuracy: 0.5280\n",
      "Epoch 23/100\n",
      "1563/1563 [==============================] - 12s 8ms/step - loss: 1.3371 - accuracy: 0.5164 - val_loss: 1.2819 - val_accuracy: 0.5352\n",
      "Epoch 24/100\n",
      "1563/1563 [==============================] - 13s 8ms/step - loss: 1.3248 - accuracy: 0.5205 - val_loss: 1.2969 - val_accuracy: 0.5296\n",
      "Epoch 25/100\n",
      "1563/1563 [==============================] - 12s 8ms/step - loss: 1.3021 - accuracy: 0.5302 - val_loss: 1.2872 - val_accuracy: 0.5402\n",
      "Epoch 26/100\n",
      "1563/1563 [==============================] - 12s 7ms/step - loss: 1.2904 - accuracy: 0.5346 - val_loss: 1.2759 - val_accuracy: 0.5380\n",
      "Epoch 27/100\n",
      "1563/1563 [==============================] - 12s 8ms/step - loss: 1.2884 - accuracy: 0.5328 - val_loss: 1.2696 - val_accuracy: 0.5398\n",
      "Epoch 28/100\n",
      "1563/1563 [==============================] - 12s 7ms/step - loss: 1.2896 - accuracy: 0.5313 - val_loss: 1.3028 - val_accuracy: 0.5246\n",
      "Epoch 29/100\n",
      "1563/1563 [==============================] - 12s 8ms/step - loss: 1.2847 - accuracy: 0.5351 - val_loss: 1.2454 - val_accuracy: 0.5600\n",
      "Epoch 30/100\n",
      "1563/1563 [==============================] - 11s 7ms/step - loss: 1.2764 - accuracy: 0.5368 - val_loss: 1.2241 - val_accuracy: 0.5562\n",
      "Epoch 31/100\n",
      "1563/1563 [==============================] - 12s 7ms/step - loss: 1.2604 - accuracy: 0.5480 - val_loss: 1.2432 - val_accuracy: 0.5532\n",
      "Epoch 32/100\n",
      "1563/1563 [==============================] - 12s 8ms/step - loss: 1.2593 - accuracy: 0.5440 - val_loss: 1.2255 - val_accuracy: 0.5574\n",
      "Epoch 33/100\n",
      "1563/1563 [==============================] - 13s 8ms/step - loss: 1.2474 - accuracy: 0.5529 - val_loss: 1.2128 - val_accuracy: 0.5610\n",
      "Epoch 34/100\n",
      "1563/1563 [==============================] - 13s 8ms/step - loss: 1.2313 - accuracy: 0.5553 - val_loss: 1.2336 - val_accuracy: 0.5574\n",
      "Epoch 35/100\n",
      "1563/1563 [==============================] - 12s 8ms/step - loss: 1.2309 - accuracy: 0.5533 - val_loss: 1.2454 - val_accuracy: 0.5496\n",
      "Epoch 36/100\n",
      "1563/1563 [==============================] - 12s 7ms/step - loss: 1.2298 - accuracy: 0.5549 - val_loss: 1.2178 - val_accuracy: 0.5650\n",
      "Epoch 37/100\n",
      "1563/1563 [==============================] - 12s 7ms/step - loss: 1.2168 - accuracy: 0.5605 - val_loss: 1.2096 - val_accuracy: 0.5664\n",
      "Epoch 38/100\n",
      "1563/1563 [==============================] - 12s 7ms/step - loss: 1.2042 - accuracy: 0.5632 - val_loss: 1.1951 - val_accuracy: 0.5654\n",
      "Epoch 39/100\n",
      "1563/1563 [==============================] - 12s 8ms/step - loss: 1.1983 - accuracy: 0.5621 - val_loss: 1.2034 - val_accuracy: 0.5696\n",
      "Epoch 40/100\n",
      "1563/1563 [==============================] - 11s 7ms/step - loss: 1.1957 - accuracy: 0.5699 - val_loss: 1.1549 - val_accuracy: 0.5844\n",
      "Epoch 41/100\n",
      "1563/1563 [==============================] - 12s 8ms/step - loss: 1.1856 - accuracy: 0.5736 - val_loss: 1.1723 - val_accuracy: 0.5794\n",
      "Epoch 42/100\n",
      "1563/1563 [==============================] - 11s 7ms/step - loss: 1.1767 - accuracy: 0.5742 - val_loss: 1.1687 - val_accuracy: 0.5780\n",
      "Epoch 43/100\n",
      "1563/1563 [==============================] - 12s 8ms/step - loss: 1.1677 - accuracy: 0.5800 - val_loss: 1.1358 - val_accuracy: 0.5922\n",
      "Epoch 44/100\n",
      "1563/1563 [==============================] - 11s 7ms/step - loss: 1.1667 - accuracy: 0.5799 - val_loss: 1.1722 - val_accuracy: 0.5738\n",
      "Epoch 45/100\n",
      "1563/1563 [==============================] - 12s 8ms/step - loss: 1.1609 - accuracy: 0.5794 - val_loss: 1.1746 - val_accuracy: 0.5794\n",
      "Epoch 46/100\n",
      "1563/1563 [==============================] - 12s 8ms/step - loss: 1.1502 - accuracy: 0.5831 - val_loss: 1.1303 - val_accuracy: 0.5862\n",
      "Epoch 47/100\n",
      "1563/1563 [==============================] - 13s 8ms/step - loss: 1.1408 - accuracy: 0.5898 - val_loss: 1.1250 - val_accuracy: 0.5954\n",
      "Epoch 48/100\n",
      "1563/1563 [==============================] - 12s 8ms/step - loss: 1.1319 - accuracy: 0.5934 - val_loss: 1.1037 - val_accuracy: 0.6022\n",
      "Epoch 49/100\n",
      "1563/1563 [==============================] - 12s 7ms/step - loss: 1.1309 - accuracy: 0.5904 - val_loss: 1.1365 - val_accuracy: 0.5962\n",
      "Epoch 50/100\n",
      "1563/1563 [==============================] - 12s 8ms/step - loss: 1.1277 - accuracy: 0.5957 - val_loss: 1.0908 - val_accuracy: 0.6176\n",
      "Epoch 51/100\n",
      "1563/1563 [==============================] - 13s 8ms/step - loss: 1.1169 - accuracy: 0.5957 - val_loss: 1.1120 - val_accuracy: 0.6082\n",
      "Epoch 52/100\n",
      "1563/1563 [==============================] - 14s 9ms/step - loss: 1.1214 - accuracy: 0.5951 - val_loss: 1.1047 - val_accuracy: 0.6034\n",
      "Epoch 53/100\n",
      "1563/1563 [==============================] - 14s 9ms/step - loss: 1.0995 - accuracy: 0.6031 - val_loss: 1.0933 - val_accuracy: 0.6042\n",
      "Epoch 54/100\n",
      "1563/1563 [==============================] - 13s 8ms/step - loss: 1.0997 - accuracy: 0.6067 - val_loss: 1.0591 - val_accuracy: 0.6200\n",
      "Epoch 55/100\n",
      "1563/1563 [==============================] - 13s 8ms/step - loss: 1.0945 - accuracy: 0.6045 - val_loss: 1.0839 - val_accuracy: 0.6062\n",
      "Epoch 56/100\n",
      "1563/1563 [==============================] - 13s 8ms/step - loss: 1.0905 - accuracy: 0.6068 - val_loss: 1.0595 - val_accuracy: 0.6202\n",
      "Epoch 57/100\n",
      "1563/1563 [==============================] - 13s 8ms/step - loss: 1.0847 - accuracy: 0.6095 - val_loss: 1.1077 - val_accuracy: 0.6090\n",
      "Epoch 58/100\n",
      "1563/1563 [==============================] - 14s 9ms/step - loss: 1.0761 - accuracy: 0.6129 - val_loss: 1.0520 - val_accuracy: 0.6254\n",
      "Epoch 59/100\n",
      "1563/1563 [==============================] - 13s 8ms/step - loss: 1.0748 - accuracy: 0.6153 - val_loss: 1.0424 - val_accuracy: 0.6192\n",
      "Epoch 60/100\n",
      "1563/1563 [==============================] - 14s 9ms/step - loss: 1.0621 - accuracy: 0.6184 - val_loss: 1.0489 - val_accuracy: 0.6282\n",
      "Epoch 61/100\n",
      "1563/1563 [==============================] - 13s 8ms/step - loss: 1.0695 - accuracy: 0.6152 - val_loss: 1.0950 - val_accuracy: 0.6070\n",
      "Epoch 62/100\n",
      "1563/1563 [==============================] - 13s 8ms/step - loss: 1.0568 - accuracy: 0.6195 - val_loss: 1.0873 - val_accuracy: 0.6176\n",
      "Epoch 63/100\n",
      "1563/1563 [==============================] - 13s 8ms/step - loss: 1.0468 - accuracy: 0.6241 - val_loss: 1.0567 - val_accuracy: 0.6200\n",
      "Epoch 64/100\n",
      "1563/1563 [==============================] - 13s 8ms/step - loss: 1.0415 - accuracy: 0.6253 - val_loss: 1.0438 - val_accuracy: 0.6228\n",
      "Epoch 65/100\n",
      "1563/1563 [==============================] - 13s 8ms/step - loss: 1.0349 - accuracy: 0.6302 - val_loss: 1.0073 - val_accuracy: 0.6368\n",
      "Epoch 66/100\n",
      "1563/1563 [==============================] - 13s 8ms/step - loss: 1.0320 - accuracy: 0.6268 - val_loss: 1.0361 - val_accuracy: 0.6262\n",
      "Epoch 67/100\n",
      "1563/1563 [==============================] - 13s 8ms/step - loss: 1.0246 - accuracy: 0.6283 - val_loss: 0.9807 - val_accuracy: 0.6452\n",
      "Epoch 68/100\n",
      "1563/1563 [==============================] - 13s 8ms/step - loss: 1.0081 - accuracy: 0.6380 - val_loss: 0.9922 - val_accuracy: 0.6478\n",
      "Epoch 69/100\n",
      "1563/1563 [==============================] - 13s 8ms/step - loss: 1.0102 - accuracy: 0.6367 - val_loss: 1.0104 - val_accuracy: 0.6324\n",
      "Epoch 70/100\n",
      "1563/1563 [==============================] - 13s 8ms/step - loss: 1.0073 - accuracy: 0.6398 - val_loss: 0.9635 - val_accuracy: 0.6552\n",
      "Epoch 71/100\n",
      "1563/1563 [==============================] - 13s 8ms/step - loss: 0.9969 - accuracy: 0.6404 - val_loss: 0.9745 - val_accuracy: 0.6500\n",
      "Epoch 72/100\n",
      "1563/1563 [==============================] - 13s 8ms/step - loss: 1.0006 - accuracy: 0.6370 - val_loss: 0.9737 - val_accuracy: 0.6522\n",
      "Epoch 73/100\n",
      "1563/1563 [==============================] - 13s 8ms/step - loss: 0.9897 - accuracy: 0.6436 - val_loss: 0.9885 - val_accuracy: 0.6480\n",
      "Epoch 74/100\n",
      "1563/1563 [==============================] - 13s 8ms/step - loss: 0.9936 - accuracy: 0.6412 - val_loss: 0.9690 - val_accuracy: 0.6522\n",
      "Epoch 75/100\n",
      "1563/1563 [==============================] - 12s 8ms/step - loss: 0.9912 - accuracy: 0.6438 - val_loss: 0.9608 - val_accuracy: 0.6498\n",
      "Epoch 76/100\n",
      "1563/1563 [==============================] - 12s 8ms/step - loss: 0.9795 - accuracy: 0.6473 - val_loss: 0.9532 - val_accuracy: 0.6564\n",
      "Epoch 77/100\n",
      "1563/1563 [==============================] - 13s 8ms/step - loss: 0.9658 - accuracy: 0.6534 - val_loss: 0.9282 - val_accuracy: 0.6560\n",
      "Epoch 78/100\n",
      "1563/1563 [==============================] - 13s 8ms/step - loss: 0.9675 - accuracy: 0.6533 - val_loss: 0.9449 - val_accuracy: 0.6598\n",
      "Epoch 79/100\n",
      "1563/1563 [==============================] - 13s 8ms/step - loss: 0.9758 - accuracy: 0.6474 - val_loss: 0.9852 - val_accuracy: 0.6562\n",
      "Epoch 80/100\n",
      "1563/1563 [==============================] - 13s 8ms/step - loss: 0.9624 - accuracy: 0.6548 - val_loss: 0.9471 - val_accuracy: 0.6580\n",
      "Epoch 81/100\n",
      "1563/1563 [==============================] - 13s 8ms/step - loss: 0.9599 - accuracy: 0.6542 - val_loss: 0.9428 - val_accuracy: 0.6580\n",
      "Epoch 82/100\n",
      "1563/1563 [==============================] - 13s 8ms/step - loss: 0.9500 - accuracy: 0.6580 - val_loss: 0.8996 - val_accuracy: 0.6826\n",
      "Epoch 83/100\n",
      "1563/1563 [==============================] - 13s 8ms/step - loss: 0.9500 - accuracy: 0.6549 - val_loss: 0.9308 - val_accuracy: 0.6656\n",
      "Epoch 84/100\n",
      "1563/1563 [==============================] - 13s 8ms/step - loss: 0.9334 - accuracy: 0.6647 - val_loss: 0.9363 - val_accuracy: 0.6686\n",
      "Epoch 85/100\n",
      "1563/1563 [==============================] - 13s 8ms/step - loss: 0.9318 - accuracy: 0.6648 - val_loss: 0.9082 - val_accuracy: 0.6714\n",
      "Epoch 86/100\n",
      "1563/1563 [==============================] - 13s 9ms/step - loss: 0.9384 - accuracy: 0.6631 - val_loss: 0.8930 - val_accuracy: 0.6828\n",
      "Epoch 87/100\n",
      "1563/1563 [==============================] - 13s 8ms/step - loss: 0.9289 - accuracy: 0.6677 - val_loss: 0.9268 - val_accuracy: 0.6636\n",
      "Epoch 88/100\n",
      "1563/1563 [==============================] - 13s 8ms/step - loss: 0.9228 - accuracy: 0.6656 - val_loss: 0.9318 - val_accuracy: 0.6614\n",
      "Epoch 89/100\n",
      "1563/1563 [==============================] - 13s 8ms/step - loss: 0.9156 - accuracy: 0.6684 - val_loss: 0.9106 - val_accuracy: 0.6768\n",
      "Epoch 90/100\n",
      "1563/1563 [==============================] - 13s 8ms/step - loss: 0.9148 - accuracy: 0.6746 - val_loss: 0.8592 - val_accuracy: 0.6934\n",
      "Epoch 91/100\n",
      "1563/1563 [==============================] - 13s 8ms/step - loss: 0.8997 - accuracy: 0.6750 - val_loss: 0.9091 - val_accuracy: 0.6758\n",
      "Epoch 92/100\n",
      "1563/1563 [==============================] - 13s 8ms/step - loss: 0.8995 - accuracy: 0.6751 - val_loss: 0.9469 - val_accuracy: 0.6584\n",
      "Epoch 93/100\n",
      "1563/1563 [==============================] - 13s 9ms/step - loss: 0.9034 - accuracy: 0.6758 - val_loss: 0.8608 - val_accuracy: 0.6904\n",
      "Epoch 94/100\n",
      "1563/1563 [==============================] - 13s 9ms/step - loss: 0.8871 - accuracy: 0.6811 - val_loss: 0.8709 - val_accuracy: 0.6902\n",
      "Epoch 95/100\n",
      "1563/1563 [==============================] - 13s 8ms/step - loss: 0.8976 - accuracy: 0.6767 - val_loss: 0.8566 - val_accuracy: 0.6966\n",
      "Epoch 96/100\n",
      "1563/1563 [==============================] - 12s 8ms/step - loss: 0.8839 - accuracy: 0.6812 - val_loss: 0.9233 - val_accuracy: 0.6694\n",
      "Epoch 97/100\n",
      "1563/1563 [==============================] - 12s 8ms/step - loss: 0.8863 - accuracy: 0.6814 - val_loss: 0.8989 - val_accuracy: 0.6796\n",
      "Epoch 98/100\n",
      "1563/1563 [==============================] - 14s 9ms/step - loss: 0.8787 - accuracy: 0.6847 - val_loss: 0.8668 - val_accuracy: 0.6888\n",
      "Epoch 99/100\n",
      "1563/1563 [==============================] - 13s 8ms/step - loss: 0.8673 - accuracy: 0.6902 - val_loss: 0.9232 - val_accuracy: 0.6668\n",
      "Epoch 100/100\n",
      "1563/1563 [==============================] - 13s 8ms/step - loss: 0.8697 - accuracy: 0.6894 - val_loss: 0.8555 - val_accuracy: 0.6904\n"
     ]
    },
    {
     "data": {
      "text/plain": [
       "<tensorflow.python.keras.callbacks.History at 0x7f7b68bc46a0>"
      ]
     },
     "execution_count": 9,
     "metadata": {},
     "output_type": "execute_result"
    }
   ],
   "source": [
    "tensorboard_cb = keras.callbacks.TensorBoard(\"./my_logs/modelo_punto_2\")\n",
    "early_stopping_cb = keras.callbacks.EarlyStopping(patience=20)\n",
    "model_checkpoint_cb = keras.callbacks.ModelCheckpoint(\"modelo_punto_2.h5\", save_best_only=True)\n",
    "optimizer = keras.optimizers.Nadam(lr=5e-5)\n",
    "model.compile(loss=\"sparse_categorical_crossentropy\",\n",
    "              optimizer=optimizer,\n",
    "              metrics=[\"accuracy\"])\n",
    "model.fit(x_train, y_train, epochs=100,\n",
    "      validation_data=(x_val, y_val),\n",
    "      callbacks=[tensorboard_cb, early_stopping_cb, model_checkpoint_cb])"
   ]
  },
  {
   "cell_type": "code",
   "execution_count": 11,
   "id": "c6f83003-6c09-4cc2-b1ef-1c9e50c91535",
   "metadata": {},
   "outputs": [
    {
     "name": "stdout",
     "output_type": "stream",
     "text": [
      "313/313 [==============================] - 1s 2ms/step - loss: 1.8559 - accuracy: 0.4648\n"
     ]
    },
    {
     "data": {
      "text/plain": [
       "[1.8558722734451294, 0.46480000019073486]"
      ]
     },
     "execution_count": 11,
     "metadata": {},
     "output_type": "execute_result"
    }
   ],
   "source": [
    "# el primer número es el loss y el segundo es el accuarcy\n",
    "model.evaluate(x_test, y_test)"
   ]
  },
  {
   "cell_type": "code",
   "execution_count": 12,
   "id": "88efd3f7-f72a-4e94-9732-7295c3f18c92",
   "metadata": {},
   "outputs": [
    {
     "name": "stdout",
     "output_type": "stream",
     "text": [
      "157/157 [==============================] - 0s 2ms/step - loss: 0.8555 - accuracy: 0.6904\n"
     ]
    },
    {
     "data": {
      "text/plain": [
       "[0.8554757833480835, 0.6904000043869019]"
      ]
     },
     "execution_count": 12,
     "metadata": {},
     "output_type": "execute_result"
    }
   ],
   "source": [
    "model.evaluate(x_val, y_val)"
   ]
  },
  {
   "cell_type": "code",
   "execution_count": 13,
   "id": "8d004586-a6e1-48a3-8e3b-bf267cb11eb2",
   "metadata": {},
   "outputs": [
    {
     "name": "stdout",
     "output_type": "stream",
     "text": [
      "1563/1563 [==============================] - 3s 2ms/step - loss: 0.8568 - accuracy: 0.6930\n"
     ]
    },
    {
     "data": {
      "text/plain": [
       "[0.8567880392074585, 0.6929600238800049]"
      ]
     },
     "execution_count": 13,
     "metadata": {},
     "output_type": "execute_result"
    }
   ],
   "source": [
    "model.evaluate(x_train, y_train)"
   ]
  },
  {
   "cell_type": "markdown",
   "id": "e6fb0781-51e3-4fe3-b6a3-960b02d430b5",
   "metadata": {},
   "source": [
    "Notar que hay una **diferencia significativa** entre el accuracy del train y el validation set y el test set. Esto podría deberse a un overfit de los datos, sin embargo, sería raro, pues por la forma en la que se tomó el validation test. "
   ]
  },
  {
   "cell_type": "code",
   "execution_count": 15,
   "id": "eeaffae7-d6cb-4fdb-8036-f26cdabd17a1",
   "metadata": {},
   "outputs": [],
   "source": [
    "tf.keras.backend.clear_session()\n",
    "model = keras.models.Sequential()\n",
    "model.add(keras.layers.Flatten(input_shape=[32, 32, 3]))\n",
    "model.add(keras.layers.BatchNormalization())\n",
    "for i in range(0,20):\n",
    "    model.add(keras.layers.Dense(100, kernel_initializer = \"he_normal\", use_bias = False))\n",
    "    model.add(keras.layers.BatchNormalization())\n",
    "    model.add(keras.layers.Activation(\"elu\"))\n",
    "model.add(keras.layers.Dense(10, activation= \"softmax\"))"
   ]
  },
  {
   "cell_type": "code",
   "execution_count": 16,
   "id": "c558749c-df48-408f-943c-c2e7ba324cff",
   "metadata": {},
   "outputs": [
    {
     "name": "stderr",
     "output_type": "stream",
     "text": [
      "2021-08-08 16:12:24.046404: I tensorflow/core/profiler/lib/profiler_session.cc:136] Profiler session initializing.\n",
      "2021-08-08 16:12:24.046481: I tensorflow/core/profiler/lib/profiler_session.cc:155] Profiler session started.\n",
      "2021-08-08 16:12:24.046521: I tensorflow/core/profiler/lib/profiler_session.cc:172] Profiler session tear down.\n"
     ]
    },
    {
     "name": "stdout",
     "output_type": "stream",
     "text": [
      "Epoch 1/10\n",
      "   2/1563 [..............................] - ETA: 2:50 - loss: 2.6476 - accuracy: 0.0938   "
     ]
    },
    {
     "name": "stderr",
     "output_type": "stream",
     "text": [
      "2021-08-08 16:12:29.410840: I tensorflow/core/profiler/lib/profiler_session.cc:136] Profiler session initializing.\n",
      "2021-08-08 16:12:29.410892: I tensorflow/core/profiler/lib/profiler_session.cc:155] Profiler session started.\n"
     ]
    },
    {
     "name": "stdout",
     "output_type": "stream",
     "text": [
      "  14/1563 [..............................] - ETA: 1:04 - loss: 2.7264 - accuracy: 0.1107"
     ]
    },
    {
     "name": "stderr",
     "output_type": "stream",
     "text": [
      "2021-08-08 16:12:29.586314: I tensorflow/core/profiler/lib/profiler_session.cc:71] Profiler session collecting data.\n",
      "2021-08-08 16:12:29.605471: I tensorflow/core/profiler/lib/profiler_session.cc:172] Profiler session tear down.\n",
      "2021-08-08 16:12:29.632013: I tensorflow/core/profiler/rpc/client/save_profile.cc:137] Creating directory: ./my_logs/modelo_punto_3/train/plugins/profile/2021_08_08_16_12_29\n",
      "2021-08-08 16:12:29.645182: I tensorflow/core/profiler/rpc/client/save_profile.cc:143] Dumped gzipped tool data for trace.json.gz to ./my_logs/modelo_punto_3/train/plugins/profile/2021_08_08_16_12_29/DESKTOP-JR7V9NU.trace.json.gz\n",
      "2021-08-08 16:12:29.664267: I tensorflow/core/profiler/rpc/client/save_profile.cc:137] Creating directory: ./my_logs/modelo_punto_3/train/plugins/profile/2021_08_08_16_12_29\n",
      "2021-08-08 16:12:29.664357: I tensorflow/core/profiler/rpc/client/save_profile.cc:143] Dumped gzipped tool data for memory_profile.json.gz to ./my_logs/modelo_punto_3/train/plugins/profile/2021_08_08_16_12_29/DESKTOP-JR7V9NU.memory_profile.json.gz\n",
      "2021-08-08 16:12:29.665861: I tensorflow/core/profiler/rpc/client/capture_profile.cc:251] Creating directory: ./my_logs/modelo_punto_3/train/plugins/profile/2021_08_08_16_12_29Dumped tool data for xplane.pb to ./my_logs/modelo_punto_3/train/plugins/profile/2021_08_08_16_12_29/DESKTOP-JR7V9NU.xplane.pb\n",
      "Dumped tool data for overview_page.pb to ./my_logs/modelo_punto_3/train/plugins/profile/2021_08_08_16_12_29/DESKTOP-JR7V9NU.overview_page.pb\n",
      "Dumped tool data for input_pipeline.pb to ./my_logs/modelo_punto_3/train/plugins/profile/2021_08_08_16_12_29/DESKTOP-JR7V9NU.input_pipeline.pb\n",
      "Dumped tool data for tensorflow_stats.pb to ./my_logs/modelo_punto_3/train/plugins/profile/2021_08_08_16_12_29/DESKTOP-JR7V9NU.tensorflow_stats.pb\n",
      "Dumped tool data for kernel_stats.pb to ./my_logs/modelo_punto_3/train/plugins/profile/2021_08_08_16_12_29/DESKTOP-JR7V9NU.kernel_stats.pb\n",
      "\n"
     ]
    },
    {
     "name": "stdout",
     "output_type": "stream",
     "text": [
      "1563/1563 [==============================] - 25s 13ms/step - loss: 2.2521 - accuracy: 0.2150 - val_loss: 1.7504 - val_accuracy: 0.3852\n",
      "Epoch 2/10\n",
      "1563/1563 [==============================] - 24s 15ms/step - loss: 1.8020 - accuracy: 0.3539 - val_loss: 1.6150 - val_accuracy: 0.4298\n",
      "Epoch 3/10\n",
      "1563/1563 [==============================] - 22s 14ms/step - loss: 1.7060 - accuracy: 0.3875 - val_loss: 1.5274 - val_accuracy: 0.4608\n",
      "Epoch 4/10\n",
      "1563/1563 [==============================] - 25s 16ms/step - loss: 1.6387 - accuracy: 0.4147 - val_loss: 1.4623 - val_accuracy: 0.4886\n",
      "Epoch 5/10\n",
      "1563/1563 [==============================] - 21s 13ms/step - loss: 1.6034 - accuracy: 0.4285 - val_loss: 1.4063 - val_accuracy: 0.4978\n",
      "Epoch 6/10\n",
      "1563/1563 [==============================] - 22s 14ms/step - loss: 1.5501 - accuracy: 0.4466 - val_loss: 1.3785 - val_accuracy: 0.5084\n",
      "Epoch 7/10\n",
      "1563/1563 [==============================] - 22s 14ms/step - loss: 1.5214 - accuracy: 0.4550 - val_loss: 1.3418 - val_accuracy: 0.5282\n",
      "Epoch 8/10\n",
      "1563/1563 [==============================] - 23s 15ms/step - loss: 1.4928 - accuracy: 0.4695 - val_loss: 1.3188 - val_accuracy: 0.5372\n",
      "Epoch 9/10\n",
      "1563/1563 [==============================] - 22s 14ms/step - loss: 1.4651 - accuracy: 0.4804 - val_loss: 1.2821 - val_accuracy: 0.5514\n",
      "Epoch 10/10\n",
      "1563/1563 [==============================] - 22s 14ms/step - loss: 1.4510 - accuracy: 0.4836 - val_loss: 1.2587 - val_accuracy: 0.5560\n"
     ]
    },
    {
     "data": {
      "text/plain": [
       "<tensorflow.python.keras.callbacks.History at 0x7f7b600bc700>"
      ]
     },
     "execution_count": 16,
     "metadata": {},
     "output_type": "execute_result"
    }
   ],
   "source": [
    "tensorboard_cb = keras.callbacks.TensorBoard(\"./my_logs/modelo_punto_3\")\n",
    "optimizer = keras.optimizers.Nadam(lr=5e-5)\n",
    "model.compile(loss=\"sparse_categorical_crossentropy\",\n",
    "              optimizer=optimizer,\n",
    "              metrics=[\"accuracy\"])\n",
    "model.fit(x_train, y_train, epochs=10,\n",
    "      validation_data=(x_val, y_val),\n",
    "      callbacks=[tensorboard_cb, early_stopping_cb, model_checkpoint_cb])"
   ]
  }
 ],
 "metadata": {
  "kernelspec": {
   "display_name": "Python 3 (ipykernel)",
   "language": "python",
   "name": "python3"
  },
  "language_info": {
   "codemirror_mode": {
    "name": "ipython",
    "version": 3
   },
   "file_extension": ".py",
   "mimetype": "text/x-python",
   "name": "python",
   "nbconvert_exporter": "python",
   "pygments_lexer": "ipython3",
   "version": "3.9.6"
  }
 },
 "nbformat": 4,
 "nbformat_minor": 5
}
